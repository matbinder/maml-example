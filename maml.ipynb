{
 "cells": [
  {
   "cell_type": "markdown",
   "metadata": {},
   "source": [
    "# Development of Spectral Neighbor Analysis Potential (SNAP)\n",
    "\n",
    "In spite of the accuracy and transferability of density functional theory (DFT) methods, their high computational cost and poor scaling of $\\sim$O($N^{3}$) limits the simulations to $\\sim$1000 atoms and hundreds of picoseconds. For those DFT-unaccessible large-scale simulations, linear sclaed interatomic potentials (IAPs) have been the typical choices for a long time. Recently, Machine learning IAPs (ML-IAPs) have emerged as a new frontier of atomistic simulation because of their linear scalability and near-DFT accuracy.\n",
    "\n",
    "In general, ML-IAPs describe the potential energy surface (PES) as a function of local environment descriptors. The thought that functions and descriptors (or features) are both perfect objects for automation has driven us to develop useful and convenient tools to parameterize the ML-IAPs for further atomistic simulations.\n",
    "\n",
    "In this notebook, we will learn how to use [maml](https://github.com/materialsvirtuallab/maml) package (developed by [Matreials Virtual Lab](http://materialsvirtuallab.org/)) to develop a major ML-IAP (Spectral Neighbor Analysis Potential, or SNAP) for elemental system Mo and alloy system Ni-Mo. We will also use the code to evaluate the quality of the developed ML-IAPs by predicting the basic materials properties. Many systems have been studied using the code, including [Mo](https://journals.aps.org/prmaterials/abstract/10.1103/PhysRevMaterials.1.043603), [Ni-Mo](https://journals.aps.org/prb/abstract/10.1103/PhysRevB.98.094104), [Li3N](https://www.nature.com/articles/s41524-019-0212-1), [NaMoTaW](https://www.nature.com/articles/s41524-020-0339-0).\n",
    "\n",
    "\n",
    "### [Data loading, Featues analyzing and Machine learning model training :](feature_analysis.ipynb)\n",
    " - Load the DFT-computed data\n",
    " - Obtain the bispectrum coefficients feature (output1: feature per atom, output2: feature per force component $f_{x}$, $f_{y}$, $f_{z}$)\n",
    " - Analyze the feature space using principle component analysis\n",
    " - Use the DFT-computed energy and forces as targets and train linear regression model\n",
    " \n",
    "### [Potentials development and materials properties prediction: ](potential_fitting.ipynb)\n",
    " - Wrap decriber and machine learning model together to develop SNAP potential\n",
    " - Evaluate the energy and forces prediction\n",
    " - Predict the basic materials properties (lattice constants, elastic constants, nudged elastic band barrier, vacancy formation energy)\n",
    " \n",
    "### [Paper-implemented potentials loading and results reproduction:](paper_reproduction.ipynb)\n",
    " - Load Mo snap potential publsihed in [Phys. Rev. Mater. (2017)](https://journals.aps.org/prmaterials/abstract/10.1103/PhysRevMaterials.1.043603)\n",
    " - Load Ni-Mo snap potential published in [Phys. Rev. B (2018)](https://journals.aps.org/prb/abstract/10.1103/PhysRevB.98.094104)\n",
    "\n",
    "No programming skill is required to run this notebook. However, little knowledge of Python is desired to understand how the notebook works. Feel free to modify the code and do some exercises as you need."
   ]
  }
 ],
 "metadata": {
  "kernelspec": {
   "display_name": "Python 3",
   "language": "python",
   "name": "python3"
  },
  "language_info": {
   "codemirror_mode": {
    "name": "ipython",
    "version": 3
   },
   "file_extension": ".py",
   "mimetype": "text/x-python",
   "name": "python",
   "nbconvert_exporter": "python",
   "pygments_lexer": "ipython3",
   "version": "3.7.6"
  }
 },
 "nbformat": 4,
 "nbformat_minor": 4
}
