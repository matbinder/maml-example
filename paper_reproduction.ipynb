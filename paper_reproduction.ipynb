{
 "cells": [
  {
   "cell_type": "markdown",
   "metadata": {},
   "source": [
    "### Repeat the import actions from the previous [notebook](feature_analysis.ipynb)"
   ]
  },
  {
   "cell_type": "code",
   "execution_count": null,
   "metadata": {},
   "outputs": [],
   "source": [
    "# Command specified for nanohub user, enable lammps executable\n",
    "import hublib.use\n",
    "%use lammps-03Mar20\n",
    "\n",
    "# Check the path of executable\n",
    "from monty.os.path import which\n",
    "which(\"lmp_serial\")"
   ]
  },
  {
   "cell_type": "code",
   "execution_count": 4,
   "metadata": {},
   "outputs": [],
   "source": [
    "# machine learning interatomic potentials imports\n",
    "from maml.apps.pes import SNAPotential\n",
    "\n",
    "# materials properties prediction imports\n",
    "from pymatgen import Structure, Lattice\n",
    "from maml.apps.pes import LatticeConstant, ElasticConstant, NudgedElasticBand, DefectFormation\n",
    "\n",
    "# disable logging information\n",
    "import logging\n",
    "logging.disable(logging.CRITICAL)"
   ]
  },
  {
   "cell_type": "markdown",
   "metadata": {},
   "source": [
    "### Load the paper-implemented ML-IAPs and reproduce the results\n",
    "\n",
    "Load [Phys. Rev. Mater._(2017)](https://journals.aps.org/prmaterials/abstract/10.1103/PhysRevMaterials.1.043603) Mo snap. Compare the results with that shown in TABLE II."
   ]
  },
  {
   "cell_type": "code",
   "execution_count": 2,
   "metadata": {},
   "outputs": [],
   "source": [
    "prm_Mo_snap = SNAPotential.from_config(param_file='./data/paper/PRM_2017/Mo.snapparam', coeff_file='./data/paper/PRM_2017/Mo.snapcoeff')"
   ]
  },
  {
   "cell_type": "markdown",
   "metadata": {},
   "source": [
    "Reproduce properties prediction (lattice constants, elastic constants, neb barrier, vacancy formation energy)"
   ]
  },
  {
   "cell_type": "code",
   "execution_count": 5,
   "metadata": {},
   "outputs": [
    {
     "name": "stdout",
     "output_type": "stream",
     "text": [
      "Mo Lattice a: 3.160 Å, Lattice b: 3.160 Å, Lattice c: 3.160 Å\n"
     ]
    }
   ],
   "source": [
    "Mo_cell = Structure.from_spacegroup(sg='Im-3m', species=['Mo'], lattice=Lattice.cubic(3.17), coords=[[0, 0, 0]])\n",
    "\n",
    "Mo_lc_calculator = LatticeConstant(prm_Mo_snap)\n",
    "a, b, c = Mo_lc_calculator.calculate([Mo_cell])[0]\n",
    "print('Mo', 'Lattice a: {:.3f} Å, Lattice b: {:.3f} Å, Lattice c: {:.3f} Å'.format(a, b, c))"
   ]
  },
  {
   "cell_type": "code",
   "execution_count": 6,
   "metadata": {},
   "outputs": [
    {
     "name": "stdout",
     "output_type": "stream",
     "text": [
      "Mo  C11: 473 GPa C12: 152 GPa C44: 107 GPa\n"
     ]
    }
   ],
   "source": [
    "Mo_ec_calculator = ElasticConstant(ff_settings=prm_Mo_snap, lattice='bcc', alat=3.17, atom_type='Mo')\n",
    "Mo_C11, Mo_C12, Mo_C44, _ = Mo_ec_calculator.calculate()\n",
    "print('Mo', ' C11: {:.0f} GPa'.format(Mo_C11), 'C12: {:.0f} GPa'.format(Mo_C12), 'C44: {:.0f} GPa'.format(Mo_C44))"
   ]
  },
  {
   "cell_type": "code",
   "execution_count": 7,
   "metadata": {},
   "outputs": [
    {
     "name": "stdout",
     "output_type": "stream",
     "text": [
      "Mo NEB barrier: 1.448 eV\n"
     ]
    }
   ],
   "source": [
    "Mo_neb_calcualtor = NudgedElasticBand(ff_settings=prm_Mo_snap, specie='Mo', lattice='bcc', alat=3.16, lmp_exe=\"lmp_mpi\")\n",
    "barrier = Mo_neb_calcualtor.calculate()\n",
    "print('Mo NEB barrier: {:.3f} eV'.format(barrier))"
   ]
  },
  {
   "cell_type": "code",
   "execution_count": 8,
   "metadata": {},
   "outputs": [
    {
     "name": "stdout",
     "output_type": "stream",
     "text": [
      "Mo Vacancy formation energy: 2.61 eV\n"
     ]
    }
   ],
   "source": [
    "Mo_vacancy_calcualtor = DefectFormation(ff_settings=prm_Mo_snap, specie='Mo', lattice='bcc', alat=3.16)\n",
    "formation_energy = Mo_vacancy_calcualtor.calculate()\n",
    "print('Mo Vacancy formation energy: {:.2f} eV'.format(formation_energy))"
   ]
  },
  {
   "cell_type": "markdown",
   "metadata": {},
   "source": [
    "Load [Phys. Rev. B_(2018)](https://journals.aps.org/prb/abstract/10.1103/PhysRevB.98.094104) Ni-Mo snap."
   ]
  },
  {
   "cell_type": "code",
   "execution_count": 9,
   "metadata": {},
   "outputs": [],
   "source": [
    "prb_Ni_Mo_snap = SNAPotential.from_config(param_file='./data/paper/PRB_2018/Ni_Mo.snapparam', \n",
    "                                          coeff_file='./data/paper/PRB_2018/Ni_Mo.snapcoeff')"
   ]
  },
  {
   "cell_type": "code",
   "execution_count": 10,
   "metadata": {},
   "outputs": [
    {
     "name": "stdout",
     "output_type": "stream",
     "text": [
      "Mo  C11: 475 GPa C12: 163 GPa C44: 111 GPa\n",
      "Ni  C11: 269 GPa C12: 150 GPa C44: 135 GPa\n"
     ]
    }
   ],
   "source": [
    "Mo_ec_calculator = ElasticConstant(ff_settings=prb_Ni_Mo_snap, lattice='bcc', alat=3.17, atom_type='Mo')\n",
    "Mo_C11, Mo_C12, Mo_C44, _ = Mo_ec_calculator.calculate()\n",
    "print('Mo', ' C11: {:.0f} GPa'.format(Mo_C11), 'C12: {:.0f} GPa'.format(Mo_C12), 'C44: {:.0f} GPa'.format(Mo_C44))\n",
    "\n",
    "Ni_ec_calculator = ElasticConstant(ff_settings=prb_Ni_Mo_snap, lattice='fcc', alat=3.508, atom_type='Ni')\n",
    "Ni_C11, Ni_C12, Ni_C44, _ = Ni_ec_calculator.calculate()\n",
    "print('Ni', ' C11: {:.0f} GPa'.format(Ni_C11), 'C12: {:.0f} GPa'.format(Ni_C12), 'C44: {:.0f} GPa'.format(Ni_C44))"
   ]
  },
  {
   "cell_type": "code",
   "execution_count": null,
   "metadata": {},
   "outputs": [],
   "source": []
  }
 ],
 "metadata": {
  "kernelspec": {
   "display_name": "Python 3",
   "language": "python",
   "name": "python3"
  },
  "language_info": {
   "codemirror_mode": {
    "name": "ipython",
    "version": 3
   },
   "file_extension": ".py",
   "mimetype": "text/x-python",
   "name": "python",
   "nbconvert_exporter": "python",
   "pygments_lexer": "ipython3",
   "version": "3.7.6"
  }
 },
 "nbformat": 4,
 "nbformat_minor": 4
}
